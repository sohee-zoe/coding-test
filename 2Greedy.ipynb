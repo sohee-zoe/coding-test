{
  "nbformat": 4,
  "nbformat_minor": 0,
  "metadata": {
    "colab": {
      "name": "이코테 2. 그리디 & 구현.ipynb",
      "provenance": [],
      "collapsed_sections": [],
      "authorship_tag": "ABX9TyNVRhg1XdeFoX0X1uCSQUXG",
      "include_colab_link": true
    },
    "kernelspec": {
      "name": "python3",
      "display_name": "Python 3"
    }
  },
  "cells": [
    {
      "cell_type": "markdown",
      "metadata": {
        "id": "view-in-github",
        "colab_type": "text"
      },
      "source": [
        "<a href=\"https://colab.research.google.com/github/soraennon/coding-test/blob/main/2Greedy.ipynb\" target=\"_parent\"><img src=\"https://colab.research.google.com/assets/colab-badge.svg\" alt=\"Open In Colab\"/></a>"
      ]
    },
    {
      "cell_type": "markdown",
      "metadata": {
        "id": "VEb1ecspK1b2"
      },
      "source": [
        "# Part 2. 주요 알고리즘 이론과 실전 문제"
      ]
    },
    {
      "cell_type": "markdown",
      "metadata": {
        "id": "3Jq8cDX4_Q1g"
      },
      "source": [
        "# Chapter 3. 그리디\n",
        "\n",
        "- 탐욕법, 현재 상황에서 지금 당장 좋은 것만 고르는 방법\n",
        "- 일반적인 그리디 알고리즘은 문제를 풀기 위한 최소한의 아이디어를 떠올릴 수 있는 능력 요구\n",
        "- 정당성 분석이 중요\n",
        "  - 단순히 가장 좋아 보이는 것을 반복적으로 선택해도 최적의 해를 구할 수 있는지 검토\n",
        "\n",
        "- 일반적인 상황에서 그리디 알고리즘은 최적의 해를 보장할 수 없음\n",
        "- 코딩 테스트에서 최적의 해가 그리디로 얻은 해로 풀릴 수 있도록 출제됨\n"
      ]
    },
    {
      "cell_type": "markdown",
      "metadata": {
        "id": "cVhqVGhQAxsb"
      },
      "source": [
        "## 3.1 거스름돈\n",
        "- 거스름돈 500원, 100원, 50원, 10원\n",
        "- 거스러줘야 할 돈 N원\n",
        "- 거슬러줘야 할 동전의 최소 개수\n",
        "- 단, 거슬러줘야 할 돈 N은 항상 10의 배수\n",
        "\n",
        "\n",
        "\n",
        "\n",
        "\n"
      ]
    },
    {
      "cell_type": "markdown",
      "metadata": {
        "id": "KrgswUA5DnfK"
      },
      "source": [
        "**해설**\n",
        "가장 큰 화폐 단위부터 돈을 거슬러 줄 것\n"
      ]
    },
    {
      "cell_type": "code",
      "metadata": {
        "colab": {
          "base_uri": "https://localhost:8080/"
        },
        "id": "sw9eFu15_DJP",
        "outputId": "5d5fc1ab-0308-44aa-a473-1ea646d39135"
      },
      "source": [
        "n = int(input())\n",
        "cnt = 0\n",
        "\n",
        "coins = [500, 100, 50, 10]\n",
        "\n",
        "for coin in coins:\n",
        " cnt += n // coin   # 몫\n",
        " n %= coin          # 나머지\n",
        "\n",
        "print(cnt)"
      ],
      "execution_count": null,
      "outputs": [
        {
          "output_type": "stream",
          "text": [
            "1260\n",
            "6\n"
          ],
          "name": "stdout"
        }
      ]
    },
    {
      "cell_type": "markdown",
      "source": [
        "**거스름돈: 정당성 분석**\n",
        "- 가장 큰 화폐 단위부터 돈을 거슬러 주는 것이 최적의 해를 보상하는 이유\n",
        "  - 가지고 있는 동전 중에서 큰 당뉘가 항상 작은 단위의 배수이므로 작은 단위의 동전들을 종합해 다른 해가 나올 수 없기 때문\n",
        "\n",
        "- 만약 800원을 거슬러 주어야 하는데 화폐 단위가 500, 400, 100원이라면?\n",
        "- 그리디 알고리즘 문제에서는 이처럼 문제 풀이를 위한 최소한의 아이디어를 떠올리고 이것이 정당한지 검토할 수 있어야 함"
      ],
      "metadata": {
        "id": "tUwbcw9XNMwW"
      }
    },
    {
      "cell_type": "code",
      "source": [
        "n = 800\n",
        "count = 0\n",
        "\n",
        "# 큰 단위의 화폐부터 차례대로 확인\n",
        "list = [500, 100, 50, 10]\n",
        "\n",
        "for coin in list:\n",
        "  count += n // coin # 해당 화폐로 거슬러 줄 수 있는 동전의 개수 (몫)\n",
        "  n %= coin # 나머지\n",
        "\n",
        "print(count)"
      ],
      "metadata": {
        "id": "_Gj2DAjTNWEh"
      },
      "execution_count": null,
      "outputs": []
    },
    {
      "cell_type": "markdown",
      "source": [
        "**거스름돈: 사건 복잡도 분석**\n",
        "- 화폐의 종류가 K라고 할 때, 소스코드의 시간 복잡도는 ***O(k)***\n",
        "- 이 알고리즘의 시간 복잡도는 거슬러줘야 하는 금액과는 무관, 동전의 총 종류에만 영향을 받음"
      ],
      "metadata": {
        "id": "Stb5JPssNW90"
      }
    },
    {
      "cell_type": "code",
      "source": [
        "### c++\n",
        "\n",
        "```\n",
        "#include <bits/stdc++.h>\n",
        "\n",
        "using namespace std;\n",
        "\n",
        "int n = 1260;\n",
        "int cnt;\n",
        "\n",
        "int coinTypes[4] = {500, 100, 50, 10};\n",
        "\n",
        "int main(void){\n",
        "  for (int i = 0; i < 4; i++)\n",
        "  {\n",
        "    cnt += n / coinTypes[i];\n",
        "    n %= conTypes[i];\n",
        "  }\n",
        "  cout << cnt << 'n';\n",
        "}\n",
        "\n",
        "```\n",
        "\n"
      ],
      "metadata": {
        "id": "qEyuqqcMNV75"
      },
      "execution_count": null,
      "outputs": []
    },
    {
      "cell_type": "markdown",
      "metadata": {
        "id": "dyn2DMn4WX4P"
      },
      "source": [
        "## 3.2 큰 수의 법칙\n",
        "- 다양한 수로 이루어진 배열(크기 N)이 있을 때 주어진 수들을 M번 더하여 가장 큰 수를 만드는 법칙\n",
        "- 단, 배열의 특정한 인덱스에 해당하는 수가 연속해서 K번을 초과하여 더해질 수 없음\n",
        "\n",
        "- 배열의 크기 N, 숫자가 더해지는 횟수 M, 그리고 연속해서 K번을 초과해서 더해질 수 없음 (K <= M)\n",
        "  * **N개의 원소를 가진 배열이 있을 때 주어진 수들을 M번 더하여 가장 큰 수를 만드는 법칙. 각 인덱스의 해당하는 수는 *연속해서* K번을 초과하여 더해질 수 없다.**\n",
        "\n",
        "예)\n",
        "- 순서대로 2, 4, 5, 4, 6으로 이루어진 배열이 있을 때 M이 8이고, K가 3이라고 가정하자. 이 경우 특정한 인덱스의 수가 연속해서 세번까지만 더해질 수 있으므로 큰 수의 법칙에 따른 결과는 6 + 6 + 6 + 5 + 6 + 6 + 6 + 5 = 45가 된다.\n",
        "- 단, 서로 다른 인덱스에 해당하는 수가 같은 경우에도 서로 다른 것으로 간주한다. 예를 들어 순서대로 3, 4, 3, 4, 3으로 이루어진 배열이 있을 때 M이 7이고 K가 2라고 가정하자. 이 경우 두 번째 원소에 해당하는 4와 네 번째 원소에 해당하는 4를 번갈아 두 번씩 더하는 것이 가능하다. 결과적으로 4 + 4 + 4 + 4 + 4 + 4 + 4 = 28이 도출된다."
      ]
    },
    {
      "cell_type": "markdown",
      "metadata": {
        "id": "aWA32fKoWzMR"
      },
      "source": [
        "**문제 & 해설**\n"
      ]
    },
    {
      "cell_type": "markdown",
      "metadata": {
        "id": "scW9xTYYXzVd"
      },
      "source": [
        "- 가장 큰 수와 두번째로 큰 수만 저장\n",
        "- 가장 큰 수를 k번 더하고 두번째 큰 수를 한 번 더하고 이를 반복"
      ]
    },
    {
      "cell_type": "code",
      "metadata": {
        "colab": {
          "base_uri": "https://localhost:8080/"
        },
        "id": "b60e9n2vXyds",
        "outputId": "cd1a1d8e-ca1b-4b74-ebce-50cfbca82b7a"
      },
      "source": [
        "n, m, k = map(int, input().split())\n",
        "\n",
        "data = list(map(int, input().split()))\n",
        "\n",
        "data.sort()\n",
        "\n",
        "big1 = data[-1]\n",
        "big2 = data[-2]\n",
        "\n",
        "\n",
        "a = m // (k + 1)\n",
        "b = m % (k + 1)\n",
        "\n",
        "result = a * (k * big1 + big2)\n",
        "result += b * big2\n",
        "\n",
        "print(result)"
      ],
      "execution_count": null,
      "outputs": [
        {
          "output_type": "stream",
          "text": [
            "5 8 3\n",
            "2 4 5 4 6\n",
            "46\n"
          ],
          "name": "stdout"
        }
      ]
    },
    {
      "cell_type": "markdown",
      "source": [
        "**배열의 크기 N, 숫자가 더해지는 횟수 M, 그리고 K가 주어질 때 큰 수의 법칙에 따른 결과를 출력하시오.**\n",
        "\n",
        "\n",
        "\n",
        "---\n",
        "입력 조건\n",
        "  - 첫째 줄에 N(2 <= N <= 1,000), M(1 <= M <= 10,000), K(1 <= K <= 10,000)의 자연수가 주어지며, 각 자연수는 공백으로 구분한다.\n",
        "  - 둘째 줄에 N개의 자연수가 주어진다. 각 자연수는 공백으로 구분한다. 단, 각각의 자연수는 1 이상 10,000 이하의 수로 주어진다.\n",
        "  - 입력으로 주어지는 K는 항상 M보다 작거나 같다.\n",
        "\n",
        "출력 조건\n",
        "  - 첫째 줄에 큰 수의 법칙에 따라 더해진 답을 출력한다.\n",
        "\n",
        "--- \n",
        "- 입력값 중에서 가장 큰 수와 두 번째 큰 수 저장\n",
        "- 연속으로 더할 수 있는 횟수는 최대 K번이므로 '가장 큰 수를 K번 더하고 두 번째로 큰 수를 한 번 더하는 연산' 반복\n"
      ],
      "metadata": {
        "id": "sFIXvOGjOYeU"
      }
    },
    {
      "cell_type": "markdown",
      "source": [
        "\n",
        "**해설1: 시간 초과**\n",
        "\n",
        "```\n",
        "# N, M, K를 공백으로 구분하여 입력 받기\n",
        "n, m, k = map(int, input().split())\n",
        "\n",
        "# N개의 수를 공백으로 구분하여 입력 받기\n",
        "data = list(map(int, input().split()))\n",
        "print(data)\n",
        "\n",
        "data.sort() # 입력 받은 수들 정렬\n",
        "print(data)\n",
        "\n",
        "# first = data[n - 1] # 가장 큰 수\n",
        "# second = data[n - 2] # 두번째로 큰 수\n",
        "first = data[-1] # 가장 큰 수\n",
        "second = data[-2] # 두번째로 큰 수\n",
        "\n",
        "result = 0\n",
        "\n",
        "while True:\n",
        "  for i in range(k): # 가장 큰 수를 K번 더하기\n",
        "    if m == 0: # m이 0이면 반복문 탈출\n",
        "      break\n",
        "    result += first\n",
        "    m -= -1 # 더할 때마다 1씩 빼기\n",
        "  \n",
        "  if m == 0: # m이 0이면 반복문 탈출\n",
        "    break\n",
        "  \n",
        "  result += second # 두번째로 큰 수 한 번 더하기\n",
        "  m -= -1 # 더할 때마다 1씩 빼기\n",
        "\n",
        "print(result)\n",
        "```\n",
        "\n"
      ],
      "metadata": {
        "id": "SvfccXMhOmsf"
      }
    },
    {
      "cell_type": "markdown",
      "source": [
        "**더 효율적인 문제 해결**\n",
        "\n",
        "<table>\n",
        "  <tr>\n",
        "    <td colspan=\"5\">N = 5</td>\n",
        "  </tr>\n",
        "  <tr>\n",
        "    <td>2</td>\n",
        "    <td>4</td>\n",
        "    <td>5</td>\n",
        "    <td>4</td>\n",
        "    <td>6</td>\n",
        "  </tr>\n",
        "  <tr>\n",
        "    <td colspan=\"5\">M = 8</td>\n",
        "  </tr>\n",
        "  <tr>\n",
        "    <td colspan=\"5\">K = 3</td>\n",
        "  </tr>\n",
        "</table>\n",
        "\n",
        "  - 가장 큰 수: 6\n",
        "  - 두번째로 큰 수: 5\n",
        "\n",
        "  - 다음과 같이 더했을 때 합이 최대\n",
        "   - (6 + 6 + 6 + 5) + (6 + 6 + 6 + 5) = 46\n",
        "<table>  \n",
        "  <tr>\n",
        "    <td>6</td>\n",
        "    <td>6</td>\n",
        "    <td>6</td>\n",
        "    <td>5</td>\n",
        "  </tr>\n",
        "  <tr>\n",
        "    <td>6</td>\n",
        "    <td>6</td>\n",
        "    <td>6</td>\n",
        "    <td>5</td>\n",
        "  </tr>\n",
        "</table>\n",
        "\n",
        "\n",
        "- 가장 먼저 반복되는 수열에 대해 파악해야 한다. 가장 큰 수와 두 번째로 큰 수가 더해질 때는 특정한 수열 형태로 일정하게 반복해서 더해지는 특징이 있다. 위 예시는 {6, 6, 6, 5}가 반복\n",
        "- 그렇다면 반복되는 수열의 길이는 어떻게 될까? 바로 (K + 1)로 위의 예시에서는 4가 된다. 따라서 M을 (K + 1)로 나눈 몫이 수열이 반복되는 횟수가 된다. \n",
        "- 다시 여기에 K를 곱해주면 가장 큰 수가 등장하는 횟수가 된다.\n",
        "- 이때 M이 (k + 1)로 나누어 떨어지지 않는 경우도 고려해야 한다. 그럴 때는 M을 (K + 1)로 나눈 나머지만큼 가장 큰 수가 추가로 더해지므로 이를 고려해주어야 한다. 즉, '가장 큰 수가 더해지는 횟수'는 다음과 같다.\n",
        "\n",
        "  ```\n",
        "  int(M / (K + 1)) * K + M % (K + 1)\n",
        "  ```\n",
        "결과적으로 위 식을 이용하여 가장 큰 수가 더해지는 횟수를 구한 다음, 이를 이용해 두번째로 큰 수가 더해지는 횟수까지 구할 수 있다.\n",
        "\n",
        "\n",
        "\n",
        "\n",
        "---\n",
        "파이썬에서 A를 B로 나눈 몫을 구하기 \n",
        "\n",
        "```\n",
        "int(A / B)\n",
        "A // B\n",
        "```\n",
        "\n",
        "\n",
        "\n"
      ],
      "metadata": {
        "id": "puUPdpr_On6q"
      }
    },
    {
      "cell_type": "code",
      "source": [
        "# N, M, K를 공백으로 구분하여 입력 받기\n",
        "n, m, k = map(int, input().split())\n",
        "\n",
        "# N개의 수를 공백으로 구분하여 입력 받기\n",
        "data = list(map(int, input().split()))\n",
        "\n",
        "data.sort() # 입력 받은 수들 정렬\n",
        "print(data)\n",
        "\n",
        "# first = data[n - 1] # 가장 큰 수\n",
        "# second = data[n - 2] # 두번째로 큰 수\n",
        "first = data[-1] # 가장 큰 수\n",
        "second = data[-2] # 두번째로 큰 수\n",
        "\n",
        "# 가장 큰 수가 더해지는 횟수 계산\n",
        "count = int(m / (k + 1)) * k\n",
        "count += m % (k + 1)\n",
        "\n",
        "print(count)\n",
        "\n",
        "result = 0\n",
        "result += (count) * first # 가장 큰 수 더하기\n",
        "result += (m - count) * second # 두번째로 큰 수 더하기\n",
        "\n",
        "print(result)"
      ],
      "metadata": {
        "id": "e19fNR7JOrSd"
      },
      "execution_count": null,
      "outputs": []
    },
    {
      "cell_type": "markdown",
      "metadata": {
        "id": "rnNDajeNGoZK"
      },
      "source": [
        "## 3.3 숫자 카드 게임\n",
        "\n",
        "- 여러 개의 카드 중에서 가장 높은 숫자가 쓰인 카드 한 장을 뽑는 게임\n",
        "  1. 숫자가 쓰인 카드들이 N x M 형태로 놓여있다. 이때 N은 행의 개수, M은 열의 개수\n",
        "  2. 먼저 뽑고자 하는 카드가 포함되어 있는 행을 선택한다.\n",
        "  3. 그 다음 선택된 행에 포함된 카드들 중 가장 숫자가 낮은 카드를 뽑아야 한다.\n",
        "  4. 따라서 처음에 카드를 골라낼 행을 선택할 때, 이후에 해당 행에서 가장 숫자가 낮은 카드를 뽑을 것을 고려하여 최종적으로 가장 높은 숫자의 카드를 뽑을 수 있도록 전략을 세워야 한다.\n",
        "\n",
        "\n",
        "\n",
        "---\n",
        "예를 들어 3 X 3 형태로 카드들이 놓여있다고 가정하자.\n",
        "\n",
        "| ||M개| |\n",
        "|---|---|---|---|\n",
        "|3|1|2| |\n",
        "|4|1|4|N개|\n",
        "|2|2|2| |\n",
        "\n",
        "여기서 카드를 골라낼 행을 고를 때 첫 번째 혹은 두번째 행을 선택하는 경우, 최종적으로 뽑는 카드는 1이다. 하지만 세번째 행을 선택하는 경우 최종적으로 뽑는 카드는 2이다. 따라서 이 예제에서는 세번째 행을 선택하여 숫자 2가 쓰여진 카드를 뽑는 것이 정답"
      ]
    },
    {
      "cell_type": "markdown",
      "metadata": {
        "id": "Upjg8VDILXrk"
      },
      "source": [
        "**카드들이 N x M 형태로 놓여있을 때, 게임의 룰에 맞게 카드를 뽑는 프로그램을 만드시오.**\n",
        "\n",
        "---\n",
        "입력조건\n",
        "  - 첫째 줄에 카드들이 놓인 행의 개수 N과 열의 개수 M이 공백을 기준으로 하여 각각 자연수로 주어진다. (1 <= N, M <= 100)\n",
        "  - 둘째 줄부터 N개의 줄에 걸쳐 각 카드에 적힌 숫자가 주어진다. 각 숫자는 1 이상 10,000 이하의 자연수\n",
        "\n",
        "출력 조건\n",
        "  - 첫째 줄에 게임의 룰에 맞게 선택한 카드에 적힌 숫자를 출력한다.\n",
        "\n",
        "\n",
        "---\n",
        "예시1\n",
        "\n",
        "- 입력\n",
        "\n",
        "| 3| 3|  |\n",
        "|--|--|--|\n",
        "|3|1|2|\n",
        "|4|1|4|\n",
        "|2|2|2|\n",
        "\n",
        "- 출력\n",
        "`2`\n",
        "\n",
        "---\n",
        "예시2\n",
        "\n",
        "- 입력\n",
        "\n",
        "| 2| 4|  |  |\n",
        "|--|--|--|--|\n",
        "|7|3|1|8|\n",
        "|3|3|3|4|\n",
        "\n",
        "- 출력\n",
        "`3`\n",
        "\n"
      ]
    },
    {
      "cell_type": "markdown",
      "metadata": {
        "id": "4A5NmIdrIqDQ"
      },
      "source": [
        "**해설**\n",
        "- 각 행마다 가장 작은 수를 찾은 뒤에 그 수 중에서 가장 큰 수"
      ]
    },
    {
      "cell_type": "code",
      "metadata": {
        "id": "AswlW8kSLcko",
        "colab": {
          "base_uri": "https://localhost:8080/"
        },
        "outputId": "a379911f-a402-4eb1-e85e-cb4b96d87624"
      },
      "source": [
        "n, m = map(int, input().split())\n",
        "\n",
        "result = 0\n",
        "for i in range(n):\n",
        "  data = list(map(int, input().split()))\n",
        "  minV = min(data)\n",
        "  result = max(result, minV)\n",
        "\n",
        "print(result)"
      ],
      "execution_count": null,
      "outputs": [
        {
          "output_type": "stream",
          "text": [
            "3 3\n",
            "3 1 2\n",
            "4 1 4\n",
            "2 7 8\n",
            "2\n"
          ],
          "name": "stdout"
        }
      ]
    },
    {
      "cell_type": "markdown",
      "metadata": {
        "id": "AvQpHma-LMCh"
      },
      "source": [
        "## 3.4 1이 될 때까지\n",
        "\n",
        "어떠한 수 N이 1이 될 때까지 다음의 두 과정 중 하나를 반복적으로 선택하여 수행하려고 한다. 단, 두번째 연산은 N이 K로 나누어 떨어질 때만 선택할 수 있다.\n",
        "  1. N에서 1을 뺀다.\n",
        "  2. N을 K로 나눈다.\n",
        "\n",
        "N과 K가 주어질 때 N이 1이 될 때까지 1번 혹은 2번의 과정을 수행해야 하는 최소 횟수를 구하라."
      ]
    },
    {
      "cell_type": "markdown",
      "metadata": {
        "id": "F7wixFc67kdx"
      },
      "source": [
        "**해설**\n",
        "- 최대한 많이 나누기"
      ]
    },
    {
      "cell_type": "code",
      "metadata": {
        "colab": {
          "base_uri": "https://localhost:8080/"
        },
        "id": "9FLAB0iD7kzY",
        "outputId": "8869e858-e6ba-4026-e96f-c465f41c2f24"
      },
      "source": [
        "n, k = map(int, input().split())\n",
        "\n",
        "cnt = 0\n",
        "\n",
        "while n >= k:\n",
        "  while n % k != 0:\n",
        "    n -= 1\n",
        "    cnt += 1\n",
        "  \n",
        "  n //= k\n",
        "  cnt += 1\n",
        "\n",
        "while n > 1:\n",
        "\n",
        "  n -= 1\n",
        "  cnt += 1\n",
        "\n",
        "print(cnt)\n"
      ],
      "execution_count": null,
      "outputs": [
        {
          "output_type": "stream",
          "text": [
            "25 3\n",
            "6\n"
          ],
          "name": "stdout"
        }
      ]
    },
    {
      "cell_type": "code",
      "source": [
        "# N, K를 공백을 기준으로 구분하여 입력 받기\n",
        "n, k = map(int, input().split())\n",
        "\n",
        "result = 0\n",
        "\n",
        "while True:\n",
        "  # N이 K로 나누어 떨어지는 수가 될 때까지 빼기\n",
        "  target = (n // k) * k\n",
        "  result += (n - target)\n",
        "  n = target\n",
        "\n",
        "  # N이 K보다 작을 때 (더 이상 나눌 수 없을 때) 반복문 탈출\n",
        "  if n < k:\n",
        "    break\n",
        "  \n",
        "  # K로 나누기\n",
        "  result += 1\n",
        "  n //= k \n",
        "\n",
        "# 마지막으로 남은 수에 대하여 1씩 빼기\n",
        "result += (n - 1)\n",
        "print(result)"
      ],
      "metadata": {
        "id": "loGJDkCgQmGM"
      },
      "execution_count": null,
      "outputs": []
    },
    {
      "cell_type": "markdown",
      "source": [
        "### C++\n",
        "\n",
        "\n",
        "```\n",
        "#include <bits/stdc++.h>\n",
        "using namespace std;\n",
        "\n",
        "int n, k;\n",
        "int result;\n",
        "\n",
        "int main(void) \n",
        "  {\n",
        "    cin >> n >> k;\n",
        "    while (true)\n",
        "      { // N이 K로 나누어 떨어지는 수가 될 때까지 뺴기\n",
        "        int target = (n / k) * k;\n",
        "        result += (n - target);\n",
        "        n = target;\n",
        "        // N이 K보다 작을 때 (더 나눌 수 없을 때) 반복문 탈출\n",
        "        if (n < k) break;\n",
        "        // K로 나누기\n",
        "        result++;\n",
        "        n /= k;\n",
        "      }\n",
        "      // 마지막으로 남은 수에 대해서 1씩 빼기\n",
        "      result += (n - 1);\n",
        "      cout << result << '\\n';\n",
        "  }\n",
        "\n",
        "```\n",
        "\n",
        "\n",
        "\n"
      ],
      "metadata": {
        "id": "RPHBujuGZY-9"
      }
    },
    {
      "cell_type": "markdown",
      "metadata": {
        "id": "CPjCE9YoVveR"
      },
      "source": [
        "# Chapter 4 구현"
      ]
    },
    {
      "cell_type": "markdown",
      "source": [
        "**4.1 상하좌우 시뮬레이션**"
      ],
      "metadata": {
        "id": "qqiiVIo2Q8Q9"
      }
    },
    {
      "cell_type": "code",
      "metadata": {
        "id": "Xz58kd5AE4_Z"
      },
      "source": [
        "# N 입력 받기\n",
        "n = int(input())\n",
        "\n",
        "x, y = 1, 1\n",
        "plans = input().split()\n",
        "\n",
        "# L, R, U, D 이동 방향\n",
        "move_types = ['L', 'R', 'U', 'D']\n",
        "dx = [0,0,-1,1]\n",
        "dy = [-1,1,0,0]\n",
        "\n",
        "for plan in plans:\n",
        "  for i in range(len(move_types)):\n",
        "    if plan == move_types[i]:\n",
        "      nx = x + dx[i]\n",
        "      ny = y + dy[i]\n",
        "\n",
        "  if nx < 1 or ny < 1 or nx > n or ny > n:\n",
        "    continue\n",
        "  \n",
        "  x, y = nx, ny\n",
        "\n",
        "print(x, y)"
      ],
      "execution_count": null,
      "outputs": []
    },
    {
      "cell_type": "markdown",
      "metadata": {
        "id": "-W54YR9SE3aP"
      },
      "source": [
        "**4.2 시각**\n",
        "\n",
        "정수 N이 입력되면 00시 00분 00초부터 N시 59분 59초까지의 모든 시각 중에서 3이 하나라도 포함되는 모든 경우의 수를 구하는 프로그램\n",
        "- 예) 1을 입력했을 때 \n",
        "  - 다음은 3이 하나라도 포함되어 있으므로 세어야 하는 시각\n",
        "    - 00시 00분 03초\n",
        "    - 00시 13분 30초\n",
        "  - 세면 안 되는 시각\n",
        "    - 00시 02분 55초\n",
        "    - 01시 27분 45초\n",
        "\n",
        "- 입력조건: 첫째줄에 정수 N 입력 ( 0 <= N <= 23)\n",
        "- 출력조건: 00시 00분 00초부터 N시 59분 59초까지의 모든 시각 중 3이 하나라도 포함되는 모든 경우의 수 출력\n",
        "\n",
        "\n",
        "\n",
        "\n",
        "\n"
      ]
    },
    {
      "cell_type": "code",
      "metadata": {
        "id": "9u2JUeRoE4K0"
      },
      "source": [
        "n = int(input())\n",
        "\n",
        "count = 0\n",
        "\n",
        "for h in range(n + 1):\n",
        "  for m in range(60):\n",
        "    for s in range(60):\n",
        "      if '3' in str(h) + str(m) + str(s):\n",
        "        # print(h, m, s)\n",
        "        count += 1\n",
        "\n",
        "print(count)"
      ],
      "execution_count": null,
      "outputs": []
    },
    {
      "cell_type": "markdown",
      "metadata": {
        "id": "xJvh-Q59E3tL"
      },
      "source": [
        "**4.5 곱하기 혹은 더하기**\n",
        "\n",
        "- 각 자리가 숫자(0~9)로만 이루어진 문자열 S가 주어졌을 때, 왼쪽부터 오른쪽으로 하나씩 모든 숫자를 확인하며 숫자 사이에 'x' 혹은 '+' 연산자를 넣어 결과적으로 **만들어질 수 있는 가장 큰 수를 구하는 프로그램*을 작성하세요. 단, +보다 x를 먼저 계산하는 일반적인 방식과는 달리, **모든 연산은 왼쪽에서부터 순서대로** 이루어진다고 가정합니다.\n",
        "- 예를 들어 02984라는 문자열로 만들 수 있는 가장 큰 수는 ((((0 + 2) x 9) x 8) x 4) = 576. 또한 만들어질 수 있는 가장 큰 수는 항상 20억 이하의 정수가 되도록 입력이 주어진다.\n",
        "\n",
        "\n",
        "\n",
        "---\n",
        "입력조건\n",
        "  - 첫째 줄에 여러 개의 숫자로 구성된 하나의 문자열 S가 주어진다. (1 <= S의 길이 <= 20)\n",
        "\n",
        "\n",
        "출력 조건\n",
        "  - 첫째 줄에 만들어질 수 있는 가장 큰 수를 출력\n",
        "\n",
        "\n",
        "---\n",
        "예시1\n",
        "\n",
        "- 입력\n",
        "`02984`\n",
        "\n",
        "- 출력\n",
        "`567`\n",
        "\n",
        "---\n",
        "예시2\n",
        "\n",
        "- 입력\n",
        "`567`\n",
        "\n",
        "- 출력\n",
        "`210`"
      ]
    },
    {
      "cell_type": "markdown",
      "source": [
        "**해설**\n",
        "- 대부분의 경우 '`+`' 보다 '`x`'가 값을 더 크게 만든다.\n",
        "- 다만 두 수 중에서 하나라도 '`0`' 혹은 '`1`'인 경우, 곱하기보다 더하기를 수행하는 것이 효율적\n",
        "- 따라서 두 수에 대하여 연산을 수행할 때, 두 수 중에서 하나라도 1 이하인 경우에는 더하며, 두 수가 모두 2 이상인 경우에 곱하기"
      ],
      "metadata": {
        "id": "_M3xd-lscBqJ"
      }
    },
    {
      "cell_type": "code",
      "source": [
        "data = input()\n",
        "\n",
        "# 첫번째 문자를 숫자로 변경하여 대입\n",
        "result = int(data[0])\n",
        "\n",
        "for i in range(1, len(data)):\n",
        "  # 두 수 중에서 하나라도 0 혹은 1인 경우, 더하기 수행\n",
        "  num = int(data[i])\n",
        "  if num <= 1 or result <= 1:\n",
        "    result += num\n",
        "  else:\n",
        "    result *= num\n",
        "\n",
        "print(result)\n",
        "\n"
      ],
      "metadata": {
        "id": "n2OikMY_b9BF"
      },
      "execution_count": null,
      "outputs": []
    },
    {
      "cell_type": "markdown",
      "source": [
        "### C++\n",
        "\n",
        "```\n",
        "#include <bits/stdc++.h>\n",
        "using namespace std;\n",
        "\n",
        "string str;\n",
        "\n",
        "int main(void) \n",
        "  {\n",
        "    cin >> str;\n",
        "\n",
        "    // 첫번째 문자를 숫자로 변경한 값을 대입\n",
        "    long long result = str[0] - '0';\n",
        "\n",
        "    for (int i = 1; i < str.size(); i++)\n",
        "      {\n",
        "        int num = str[i] - '0';\n",
        "        if (num <= 1 || result <= 1) result += num;\n",
        "        else result *= num;\n",
        "      }\n",
        "\n",
        "    cout << result << '\\n';\n",
        "  }\n",
        "```\n",
        "\n"
      ],
      "metadata": {
        "id": "2NmQ5yaRdNZc"
      }
    },
    {
      "cell_type": "markdown",
      "source": [
        "**4.6 모험가 길드**\n",
        "\n",
        "- 모험가 N명\n",
        "- '공포도'가 높은 모험가는 위험 상황에서 제대로 대처할 능력이 떨어진다.\n",
        "- 공포도가 X인 모험가는 반드시 X명 이상으로 구성한 모험가 그룹에 참여해야 한다.\n",
        "- 최대 몇 개의 그룹을 만들 수 있는지 (최댓값)"
      ],
      "metadata": {
        "id": "moIUKqeLet1q"
      }
    },
    {
      "cell_type": "markdown",
      "source": [
        "예) `N = 5`, 각 공포도: `2 3 1 2 2`\n",
        "  - 이 경우 그룹 1에 공포도가 1, 2, 3인 모험가를 한명씩, \n",
        "  - 그룹 2에 공포도가 2인 남은 두 명을 넣게 되면 총 2개의 그룹을 만들 수 있다.\n",
        "  - 또한 몇 명의 모험가는 마을에 그대로 남아도 되기 떄문에 모든 모험가를 특정한 그룹에 넣을 필요는 없다."
      ],
      "metadata": {
        "id": "BZ1ess29fP5w"
      }
    },
    {
      "cell_type": "markdown",
      "source": [
        "---\n",
        "입력조건\n",
        "- 첫째 줄에 모험가의 수 N이 주어진다. ( 1<= N <= 100,000)\n",
        "- 둘쨰 줄에 각 모험가이ㅡ 공포도의 값을 N이하의 자연수로 주어지며, 각 자연수는 공백으로 구분한다.\n",
        "\n",
        "\n",
        "출력조건\n",
        "- 여행을 떠날 수 있는 그룹 수의 최댓값 출력\n",
        "---\n",
        "\n",
        "\n",
        "\n",
        "입력 예시\n",
        "```\n",
        "5\n",
        "\n",
        "2 3 1 2 2\n",
        "```\n",
        "\n",
        "출력 예시\n",
        "\n",
        "`2`"
      ],
      "metadata": {
        "id": "BUXDSfKYfvrs"
      }
    },
    {
      "cell_type": "markdown",
      "source": [
        "**해설**\n",
        "\n",
        "- 오름차순 정렬 이후에 공포도가 갖은 낮은 모험가부터 하나씩 확인\n",
        "\n",
        "    `2` `3` `1` `2` `2`  =>   `1` `2` `2` `2` `3` \n",
        "\n",
        "-  "
      ],
      "metadata": {
        "id": "QjbaItxjgbkn"
      }
    },
    {
      "cell_type": "markdown",
      "source": [
        "https://youtu.be/2zjoKjt97vQ?t=1518"
      ],
      "metadata": {
        "id": "51rRqAwiiXR6"
      }
    }
  ]
}